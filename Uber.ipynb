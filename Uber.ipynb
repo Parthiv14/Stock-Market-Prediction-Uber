{
  "nbformat": 4,
  "nbformat_minor": 0,
  "metadata": {
    "colab": {
      "name": "Uber.ipynb",
      "provenance": []
    },
    "kernelspec": {
      "name": "python3",
      "display_name": "Python 3"
    }
  },
  "cells": [
    {
      "cell_type": "code",
      "metadata": {
        "id": "pXzVDBu51-L3",
        "colab_type": "code",
        "colab": {
          "base_uri": "https://localhost:8080/",
          "height": 88
        },
        "outputId": "ca87f290-72ec-481c-eba6-0e5429d34dbb"
      },
      "source": [
        "import math\n",
        "import pandas_datareader as web\n",
        "import numpy as np\n",
        "import pandas as pd\n",
        "from sklearn.preprocessing import MinMaxScaler\n",
        "from keras.models import Sequential\n",
        "from keras.layers import Dense, LSTM\n",
        "import matplotlib.pyplot as plt\n",
        "plt.style.use('fivethirtyeight')"
      ],
      "execution_count": 1,
      "outputs": [
        {
          "output_type": "stream",
          "text": [
            "/usr/local/lib/python3.6/dist-packages/pandas_datareader/compat/__init__.py:7: FutureWarning: pandas.util.testing is deprecated. Use the functions in the public API at pandas.testing instead.\n",
            "  from pandas.util.testing import assert_frame_equal\n",
            "Using TensorFlow backend.\n"
          ],
          "name": "stderr"
        }
      ]
    },
    {
      "cell_type": "code",
      "metadata": {
        "id": "_T79GEGi2HaA",
        "colab_type": "code",
        "colab": {
          "base_uri": "https://localhost:8080/",
          "height": 450
        },
        "outputId": "d3495580-1d6a-4a7f-cad7-5f4c6353913b"
      },
      "source": [
        "df = web.DataReader('UBER', data_source='yahoo', start='2012-01-01', end='2020-03-14')\n",
        "#Show the data\n",
        "df"
      ],
      "execution_count": 39,
      "outputs": [
        {
          "output_type": "execute_result",
          "data": {
            "text/html": [
              "<div>\n",
              "<style scoped>\n",
              "    .dataframe tbody tr th:only-of-type {\n",
              "        vertical-align: middle;\n",
              "    }\n",
              "\n",
              "    .dataframe tbody tr th {\n",
              "        vertical-align: top;\n",
              "    }\n",
              "\n",
              "    .dataframe thead th {\n",
              "        text-align: right;\n",
              "    }\n",
              "</style>\n",
              "<table border=\"1\" class=\"dataframe\">\n",
              "  <thead>\n",
              "    <tr style=\"text-align: right;\">\n",
              "      <th></th>\n",
              "      <th>High</th>\n",
              "      <th>Low</th>\n",
              "      <th>Open</th>\n",
              "      <th>Close</th>\n",
              "      <th>Volume</th>\n",
              "      <th>Adj Close</th>\n",
              "    </tr>\n",
              "    <tr>\n",
              "      <th>Date</th>\n",
              "      <th></th>\n",
              "      <th></th>\n",
              "      <th></th>\n",
              "      <th></th>\n",
              "      <th></th>\n",
              "      <th></th>\n",
              "    </tr>\n",
              "  </thead>\n",
              "  <tbody>\n",
              "    <tr>\n",
              "      <th>2019-05-10</th>\n",
              "      <td>45.000000</td>\n",
              "      <td>41.060001</td>\n",
              "      <td>42.000000</td>\n",
              "      <td>41.570000</td>\n",
              "      <td>186322500</td>\n",
              "      <td>41.570000</td>\n",
              "    </tr>\n",
              "    <tr>\n",
              "      <th>2019-05-13</th>\n",
              "      <td>39.240002</td>\n",
              "      <td>36.080002</td>\n",
              "      <td>38.790001</td>\n",
              "      <td>37.099998</td>\n",
              "      <td>79442400</td>\n",
              "      <td>37.099998</td>\n",
              "    </tr>\n",
              "    <tr>\n",
              "      <th>2019-05-14</th>\n",
              "      <td>39.959999</td>\n",
              "      <td>36.849998</td>\n",
              "      <td>38.310001</td>\n",
              "      <td>39.959999</td>\n",
              "      <td>46661100</td>\n",
              "      <td>39.959999</td>\n",
              "    </tr>\n",
              "    <tr>\n",
              "      <th>2019-05-15</th>\n",
              "      <td>41.880001</td>\n",
              "      <td>38.950001</td>\n",
              "      <td>39.369999</td>\n",
              "      <td>41.290001</td>\n",
              "      <td>36086100</td>\n",
              "      <td>41.290001</td>\n",
              "    </tr>\n",
              "    <tr>\n",
              "      <th>2019-05-16</th>\n",
              "      <td>44.060001</td>\n",
              "      <td>41.250000</td>\n",
              "      <td>41.480000</td>\n",
              "      <td>43.000000</td>\n",
              "      <td>38115500</td>\n",
              "      <td>43.000000</td>\n",
              "    </tr>\n",
              "    <tr>\n",
              "      <th>...</th>\n",
              "      <td>...</td>\n",
              "      <td>...</td>\n",
              "      <td>...</td>\n",
              "      <td>...</td>\n",
              "      <td>...</td>\n",
              "      <td>...</td>\n",
              "    </tr>\n",
              "    <tr>\n",
              "      <th>2020-03-09</th>\n",
              "      <td>30.320000</td>\n",
              "      <td>28.150000</td>\n",
              "      <td>28.500000</td>\n",
              "      <td>28.170000</td>\n",
              "      <td>37439200</td>\n",
              "      <td>28.170000</td>\n",
              "    </tr>\n",
              "    <tr>\n",
              "      <th>2020-03-10</th>\n",
              "      <td>29.860001</td>\n",
              "      <td>27.000000</td>\n",
              "      <td>29.469999</td>\n",
              "      <td>28.969999</td>\n",
              "      <td>36308300</td>\n",
              "      <td>28.969999</td>\n",
              "    </tr>\n",
              "    <tr>\n",
              "      <th>2020-03-11</th>\n",
              "      <td>28.139999</td>\n",
              "      <td>25.610001</td>\n",
              "      <td>27.910000</td>\n",
              "      <td>26.240000</td>\n",
              "      <td>43067800</td>\n",
              "      <td>26.240000</td>\n",
              "    </tr>\n",
              "    <tr>\n",
              "      <th>2020-03-12</th>\n",
              "      <td>24.690001</td>\n",
              "      <td>22.110001</td>\n",
              "      <td>23.260000</td>\n",
              "      <td>22.610001</td>\n",
              "      <td>54042000</td>\n",
              "      <td>22.610001</td>\n",
              "    </tr>\n",
              "    <tr>\n",
              "      <th>2020-03-13</th>\n",
              "      <td>24.809999</td>\n",
              "      <td>21.129999</td>\n",
              "      <td>24.010000</td>\n",
              "      <td>22.600000</td>\n",
              "      <td>53844400</td>\n",
              "      <td>22.600000</td>\n",
              "    </tr>\n",
              "  </tbody>\n",
              "</table>\n",
              "<p>213 rows × 6 columns</p>\n",
              "</div>"
            ],
            "text/plain": [
              "                 High        Low       Open      Close     Volume  Adj Close\n",
              "Date                                                                        \n",
              "2019-05-10  45.000000  41.060001  42.000000  41.570000  186322500  41.570000\n",
              "2019-05-13  39.240002  36.080002  38.790001  37.099998   79442400  37.099998\n",
              "2019-05-14  39.959999  36.849998  38.310001  39.959999   46661100  39.959999\n",
              "2019-05-15  41.880001  38.950001  39.369999  41.290001   36086100  41.290001\n",
              "2019-05-16  44.060001  41.250000  41.480000  43.000000   38115500  43.000000\n",
              "...               ...        ...        ...        ...        ...        ...\n",
              "2020-03-09  30.320000  28.150000  28.500000  28.170000   37439200  28.170000\n",
              "2020-03-10  29.860001  27.000000  29.469999  28.969999   36308300  28.969999\n",
              "2020-03-11  28.139999  25.610001  27.910000  26.240000   43067800  26.240000\n",
              "2020-03-12  24.690001  22.110001  23.260000  22.610001   54042000  22.610001\n",
              "2020-03-13  24.809999  21.129999  24.010000  22.600000   53844400  22.600000\n",
              "\n",
              "[213 rows x 6 columns]"
            ]
          },
          "metadata": {
            "tags": []
          },
          "execution_count": 39
        }
      ]
    },
    {
      "cell_type": "code",
      "metadata": {
        "id": "4XIJiF392hGU",
        "colab_type": "code",
        "colab": {
          "base_uri": "https://localhost:8080/",
          "height": 34
        },
        "outputId": "fbb38699-058c-4fba-85cb-fa8517a49201"
      },
      "source": [
        "df.shape\n"
      ],
      "execution_count": 40,
      "outputs": [
        {
          "output_type": "execute_result",
          "data": {
            "text/plain": [
              "(213, 6)"
            ]
          },
          "metadata": {
            "tags": []
          },
          "execution_count": 40
        }
      ]
    },
    {
      "cell_type": "code",
      "metadata": {
        "id": "jPQZ4zqd2k30",
        "colab_type": "code",
        "colab": {
          "base_uri": "https://localhost:8080/",
          "height": 518
        },
        "outputId": "ba536c4e-9533-4f6e-ad82-4169eb994bfc"
      },
      "source": [
        "plt.figure(figsize=(16,8))\n",
        "plt.title('Close Price History')\n",
        "plt.plot(df['Close'])\n",
        "plt.xlabel('Date', fontsize=18)\n",
        "plt.ylabel('Close Price USD ($)', fontsize=18)\n",
        "plt.show()"
      ],
      "execution_count": 41,
      "outputs": [
        {
          "output_type": "display_data",
          "data": {
            "image/png": "[encoded data removed]",
            "text/plain": [
              "<Figure size 1152x576 with 1 Axes>"
            ]
          },
          "metadata": {
            "tags": [],
            "needs_background": "light"
          }
        }
      ]
    },
    {
      "cell_type": "code",
      "metadata": {
        "id": "ehW2NS8e2rI0",
        "colab_type": "code",
        "colab": {
          "base_uri": "https://localhost:8080/",
          "height": 34
        },
        "outputId": "863ed498-f462-4c6d-b8db-c0ee874b4f6e"
      },
      "source": [
        "#Create a new dataframe with only the 'Close column\n",
        "data = df.filter(['Close'])\n",
        "#Convert the dataframe to a numpy array\n",
        "dataset = data.values\n",
        "#Get the number of rows to train the model on\n",
        "training_data_len = math.ceil( len(dataset) * .8 )\n",
        "\n",
        "training_data_len"
      ],
      "execution_count": 42,
      "outputs": [
        {
          "output_type": "execute_result",
          "data": {
            "text/plain": [
              "171"
            ]
          },
          "metadata": {
            "tags": []
          },
          "execution_count": 42
        }
      ]
    },
    {
      "cell_type": "code",
      "metadata": {
        "id": "vzmwSzJz2vyl",
        "colab_type": "code",
        "colab": {
          "base_uri": "https://localhost:8080/",
          "height": 1000
        },
        "outputId": "c8b04c32-4126-4747-cb1f-a63b07203e71"
      },
      "source": [
        "scaler = MinMaxScaler(feature_range=(0,1))\n",
        "scaled_data = scaler.fit_transform(dataset)\n",
        "\n",
        "scaled_data"
      ],
      "execution_count": 43,
      "outputs": [
        {
          "output_type": "execute_result",
          "data": {
            "text/plain": [
              "array([[7.97729132e-01],\n",
              "       [6.09756000e-01],\n",
              "       [7.30025156e-01],\n",
              "       [7.85954583e-01],\n",
              "       [8.57863710e-01],\n",
              "       [8.12026867e-01],\n",
              "       [7.98570194e-01],\n",
              "       [7.94785495e-01],\n",
              "       [7.84272459e-01],\n",
              "       [7.51471839e-01],\n",
              "       [7.95205946e-01],\n",
              "       [7.71656848e-01],\n",
              "       [7.29184094e-01],\n",
              "       [7.23296819e-01],\n",
              "       [7.48948652e-01],\n",
              "       [7.84272459e-01],\n",
              "       [8.47350674e-01],\n",
              "       [9.41967997e-01],\n",
              "       [9.38603749e-01],\n",
              "       [9.06644190e-01],\n",
              "       [8.41463400e-01],\n",
              "       [8.34735063e-01],\n",
              "       [8.22960354e-01],\n",
              "       [9.12952076e-01],\n",
              "       [8.67535684e-01],\n",
              "       [8.90664331e-01],\n",
              "       [8.94028579e-01],\n",
              "       [9.36080723e-01],\n",
              "       [8.94028579e-01],\n",
              "       [8.99915854e-01],\n",
              "       [8.61648410e-01],\n",
              "       [8.61648410e-01],\n",
              "       [8.36837639e-01],\n",
              "       [9.47434821e-01],\n",
              "       [1.00000000e+00],\n",
              "       [9.11269952e-01],\n",
              "       [8.99915854e-01],\n",
              "       [9.09587827e-01],\n",
              "       [8.80151295e-01],\n",
              "       [8.55761135e-01],\n",
              "       [9.08326314e-01],\n",
              "       [8.87300243e-01],\n",
              "       [8.99495403e-01],\n",
              "       [8.99495403e-01],\n",
              "       [9.22203438e-01],\n",
              "       [9.05382677e-01],\n",
              "       [8.83935994e-01],\n",
              "       [8.87720694e-01],\n",
              "       [8.65433109e-01],\n",
              "       [8.86879631e-01],\n",
              "       [8.73002508e-01],\n",
              "       [8.89823269e-01],\n",
              "       [8.74684632e-01],\n",
              "       [9.21782988e-01],\n",
              "       [8.94869641e-01],\n",
              "       [8.40622338e-01],\n",
              "       [8.21698841e-01],\n",
              "       [7.86795646e-01],\n",
              "       [7.48528201e-01],\n",
              "       [6.91757712e-01],\n",
              "       [6.95963022e-01],\n",
              "       [7.19091669e-01],\n",
              "       [8.56602197e-01],\n",
              "       [7.33809855e-01],\n",
              "       [6.05550850e-01],\n",
              "       [5.82422203e-01],\n",
              "       [4.77712295e-01],\n",
              "       [4.46593799e-01],\n",
              "       [5.31118536e-01],\n",
              "       [5.05046252e-01],\n",
              "       [5.33641723e-01],\n",
              "       [5.17661863e-01],\n",
              "       [4.79394419e-01],\n",
              "       [4.55424710e-01],\n",
              "       [4.50378498e-01],\n",
              "       [4.41968037e-01],\n",
              "       [4.20100903e-01],\n",
              "       [4.27249691e-01],\n",
              "       [4.19259841e-01],\n",
              "       [3.40622378e-01],\n",
              "       [3.94869601e-01],\n",
              "       [4.16736655e-01],\n",
              "       [3.89402858e-01],\n",
              "       [4.05382717e-01],\n",
              "       [4.58788798e-01],\n",
              "       [4.79394419e-01],\n",
              "       [4.82338056e-01],\n",
              "       [4.47855312e-01],\n",
              "       [4.97476854e-01],\n",
              "       [4.91589579e-01],\n",
              "       [4.90327906e-01],\n",
              "       [4.71825021e-01],\n",
              "       [4.20521354e-01],\n",
              "       [4.37342276e-01],\n",
              "       [3.65853600e-01],\n",
              "       [3.81833459e-01],\n",
              "       [3.77207698e-01],\n",
              "       [3.23381006e-01],\n",
              "       [3.30950324e-01],\n",
              "       [2.75441507e-01],\n",
              "       [2.69133702e-01],\n",
              "       [2.99411216e-01],\n",
              "       [2.97308641e-01],\n",
              "       [3.26745174e-01],\n",
              "       [2.80908331e-01],\n",
              "       [2.72077339e-01],\n",
              "       [2.63666959e-01],\n",
              "       [3.16652589e-01],\n",
              "       [3.58284281e-01],\n",
              "       [3.95290132e-01],\n",
              "       [3.89823389e-01],\n",
              "       [4.21362416e-01],\n",
              "       [3.97813319e-01],\n",
              "       [3.70479361e-01],\n",
              "       [4.17577717e-01],\n",
              "       [4.39444851e-01],\n",
              "       [4.49116825e-01],\n",
              "       [4.25147116e-01],\n",
              "       [4.46593799e-01],\n",
              "       [4.12951956e-01],\n",
              "       [4.68881383e-01],\n",
              "       [3.74264061e-01],\n",
              "       [3.68797317e-01],\n",
              "       [3.56602157e-01],\n",
              "       [2.27922621e-01],\n",
              "       [1.82506309e-01],\n",
              "       [2.01009194e-01],\n",
              "       [1.85449946e-01],\n",
              "       [1.90916690e-01],\n",
              "       [1.72413804e-01],\n",
              "       [1.72834255e-01],\n",
              "       [1.42556741e-01],\n",
              "       [1.76198503e-01],\n",
              "       [1.74516379e-01],\n",
              "       [1.87131990e-01],\n",
              "       [2.28343152e-01],\n",
              "       [2.88477649e-01],\n",
              "       [2.92682880e-01],\n",
              "       [2.73759463e-01],\n",
              "       [2.91421367e-01],\n",
              "       [2.89739243e-01],\n",
              "       [2.94365004e-01],\n",
              "       [2.68292640e-01],\n",
              "       [2.69974764e-01],\n",
              "       [2.71656808e-01],\n",
              "       [2.54415436e-01],\n",
              "       [2.21194284e-01],\n",
              "       [2.13624885e-01],\n",
              "       [2.22455797e-01],\n",
              "       [2.44743462e-01],\n",
              "       [2.56097560e-01],\n",
              "       [2.47687099e-01],\n",
              "       [3.13288421e-01],\n",
              "       [3.00672810e-01],\n",
              "       [3.16652589e-01],\n",
              "       [3.10765314e-01],\n",
              "       [3.30109342e-01],\n",
              "       [3.25063050e-01],\n",
              "       [3.29688811e-01],\n",
              "       [3.39360785e-01],\n",
              "       [3.18334713e-01],\n",
              "       [3.00252279e-01],\n",
              "       [3.00252279e-01],\n",
              "       [3.52817458e-01],\n",
              "       [3.68797317e-01],\n",
              "       [3.77628229e-01],\n",
              "       [4.29352426e-01],\n",
              "       [4.76450782e-01],\n",
              "       [4.78132906e-01],\n",
              "       [4.79814870e-01],\n",
              "       [4.85281694e-01],\n",
              "       [5.14718226e-01],\n",
              "       [5.21867014e-01],\n",
              "       [5.07989890e-01],\n",
              "       [5.26913386e-01],\n",
              "       [6.30782071e-01],\n",
              "       [6.07232974e-01],\n",
              "       [6.22371771e-01],\n",
              "       [5.97140389e-01],\n",
              "       [5.76114317e-01],\n",
              "       [6.05971300e-01],\n",
              "       [6.05130399e-01],\n",
              "       [5.92094176e-01],\n",
              "       [5.75693866e-01],\n",
              "       [6.30361621e-01],\n",
              "       [6.69890578e-01],\n",
              "       [5.97561000e-01],\n",
              "       [6.09335549e-01],\n",
              "       [7.58200175e-01],\n",
              "       [7.32127731e-01],\n",
              "       [7.85113521e-01],\n",
              "       [7.84272459e-01],\n",
              "       [7.35491979e-01],\n",
              "       [7.17409545e-01],\n",
              "       [7.39276679e-01],\n",
              "       [7.75861998e-01],\n",
              "       [7.70395175e-01],\n",
              "       [7.61984875e-01],\n",
              "       [6.60639215e-01],\n",
              "       [5.58872945e-01],\n",
              "       [4.98317916e-01],\n",
              "       [4.14213629e-01],\n",
              "       [4.73927596e-01],\n",
              "       [4.31034390e-01],\n",
              "       [4.39024400e-01],\n",
              "       [5.01682004e-01],\n",
              "       [4.04121044e-01],\n",
              "       [3.81833459e-01],\n",
              "       [2.34230426e-01],\n",
              "       [2.67872109e-01],\n",
              "       [1.53069776e-01],\n",
              "       [4.20531059e-04],\n",
              "       [0.00000000e+00]])"
            ]
          },
          "metadata": {
            "tags": []
          },
          "execution_count": 43
        }
      ]
    },
    {
      "cell_type": "code",
      "metadata": {
        "id": "m9A8YwBm2yL7",
        "colab_type": "code",
        "colab": {
          "base_uri": "https://localhost:8080/",
          "height": 680
        },
        "outputId": "a04e9205-18b2-452b-a7a9-977d6055d4a0"
      },
      "source": [
        "#Create the training data set\n",
        "#Create the scaled training data set\n",
        "train_data = scaled_data[0:training_data_len , :]\n",
        "#Split the data into x_train and y_train data sets\n",
        "x_train = []\n",
        "y_train = []\n",
        "\n",
        "for i in range(60, len(train_data)):\n",
        "  x_train.append(train_data[i-60:i, 0])\n",
        "  y_train.append(train_data[i, 0])\n",
        "  if i<= 61:\n",
        "    print(x_train)\n",
        "    print(y_train)\n",
        "    print()"
      ],
      "execution_count": 44,
      "outputs": [
        {
          "output_type": "stream",
          "text": [
            "[array([0.79772913, 0.609756  , 0.73002516, 0.78595458, 0.85786371,\n",
            "       0.81202687, 0.79857019, 0.7947855 , 0.78427246, 0.75147184,\n",
            "       0.79520595, 0.77165685, 0.72918409, 0.72329682, 0.74894865,\n",
            "       0.78427246, 0.84735067, 0.941968  , 0.93860375, 0.90664419,\n",
            "       0.8414634 , 0.83473506, 0.82296035, 0.91295208, 0.86753568,\n",
            "       0.89066433, 0.89402858, 0.93608072, 0.89402858, 0.89991585,\n",
            "       0.86164841, 0.86164841, 0.83683764, 0.94743482, 1.        ,\n",
            "       0.91126995, 0.89991585, 0.90958783, 0.88015129, 0.85576114,\n",
            "       0.90832631, 0.88730024, 0.8994954 , 0.8994954 , 0.92220344,\n",
            "       0.90538268, 0.88393599, 0.88772069, 0.86543311, 0.88687963,\n",
            "       0.87300251, 0.88982327, 0.87468463, 0.92178299, 0.89486964,\n",
            "       0.84062234, 0.82169884, 0.78679565, 0.7485282 , 0.69175771])]\n",
            "[0.695963022141686]\n",
            "\n",
            "[array([0.79772913, 0.609756  , 0.73002516, 0.78595458, 0.85786371,\n",
            "       0.81202687, 0.79857019, 0.7947855 , 0.78427246, 0.75147184,\n",
            "       0.79520595, 0.77165685, 0.72918409, 0.72329682, 0.74894865,\n",
            "       0.78427246, 0.84735067, 0.941968  , 0.93860375, 0.90664419,\n",
            "       0.8414634 , 0.83473506, 0.82296035, 0.91295208, 0.86753568,\n",
            "       0.89066433, 0.89402858, 0.93608072, 0.89402858, 0.89991585,\n",
            "       0.86164841, 0.86164841, 0.83683764, 0.94743482, 1.        ,\n",
            "       0.91126995, 0.89991585, 0.90958783, 0.88015129, 0.85576114,\n",
            "       0.90832631, 0.88730024, 0.8994954 , 0.8994954 , 0.92220344,\n",
            "       0.90538268, 0.88393599, 0.88772069, 0.86543311, 0.88687963,\n",
            "       0.87300251, 0.88982327, 0.87468463, 0.92178299, 0.89486964,\n",
            "       0.84062234, 0.82169884, 0.78679565, 0.7485282 , 0.69175771]), array([0.609756  , 0.73002516, 0.78595458, 0.85786371, 0.81202687,\n",
            "       0.79857019, 0.7947855 , 0.78427246, 0.75147184, 0.79520595,\n",
            "       0.77165685, 0.72918409, 0.72329682, 0.74894865, 0.78427246,\n",
            "       0.84735067, 0.941968  , 0.93860375, 0.90664419, 0.8414634 ,\n",
            "       0.83473506, 0.82296035, 0.91295208, 0.86753568, 0.89066433,\n",
            "       0.89402858, 0.93608072, 0.89402858, 0.89991585, 0.86164841,\n",
            "       0.86164841, 0.83683764, 0.94743482, 1.        , 0.91126995,\n",
            "       0.89991585, 0.90958783, 0.88015129, 0.85576114, 0.90832631,\n",
            "       0.88730024, 0.8994954 , 0.8994954 , 0.92220344, 0.90538268,\n",
            "       0.88393599, 0.88772069, 0.86543311, 0.88687963, 0.87300251,\n",
            "       0.88982327, 0.87468463, 0.92178299, 0.89486964, 0.84062234,\n",
            "       0.82169884, 0.78679565, 0.7485282 , 0.69175771, 0.69596302])]\n",
            "[0.695963022141686, 0.7190916689532657]\n",
            "\n"
          ],
          "name": "stdout"
        }
      ]
    },
    {
      "cell_type": "code",
      "metadata": {
        "id": "_ctEcpfb2-th",
        "colab_type": "code",
        "colab": {}
      },
      "source": [
        "#Convert the x_train and y_train to numpy arrays \n",
        "x_train, y_train = np.array(x_train), np.array(y_train)"
      ],
      "execution_count": 0,
      "outputs": []
    },
    {
      "cell_type": "code",
      "metadata": {
        "id": "oNVRR-Us5bk8",
        "colab_type": "code",
        "colab": {
          "base_uri": "https://localhost:8080/",
          "height": 34
        },
        "outputId": "67a132a4-0fea-4722-cd3d-5ab460c17e53"
      },
      "source": [
        "x_train = np.reshape(x_train, (x_train.shape[0], x_train.shape[1], 1))\n",
        "x_train.shape"
      ],
      "execution_count": 46,
      "outputs": [
        {
          "output_type": "execute_result",
          "data": {
            "text/plain": [
              "(111, 60, 1)"
            ]
          },
          "metadata": {
            "tags": []
          },
          "execution_count": 46
        }
      ]
    },
    {
      "cell_type": "code",
      "metadata": {
        "id": "sr2VldQW69Mo",
        "colab_type": "code",
        "colab": {}
      },
      "source": [
        "model = Sequential()\n",
        "model.add(LSTM(50, return_sequences=True, input_shape= (x_train.shape[1], 1)))\n",
        "model.add(LSTM(50, return_sequences= False))\n",
        "model.add(Dense(25))\n",
        "model.add(Dense(1))"
      ],
      "execution_count": 0,
      "outputs": []
    },
    {
      "cell_type": "code",
      "metadata": {
        "id": "hRc6J9Lw7FDk",
        "colab_type": "code",
        "colab": {}
      },
      "source": [
        "model.compile(optimizer='adam', loss='mean_squared_error')"
      ],
      "execution_count": 0,
      "outputs": []
    },
    {
      "cell_type": "code",
      "metadata": {
        "id": "yAza5uTL7Lie",
        "colab_type": "code",
        "colab": {
          "base_uri": "https://localhost:8080/",
          "height": 68
        },
        "outputId": "f51e8e08-119c-4fd3-e259-753029e23f62"
      },
      "source": [
        "model.fit(x_train, y_train, batch_size=1, epochs=1)"
      ],
      "execution_count": 49,
      "outputs": [
        {
          "output_type": "stream",
          "text": [
            "Epoch 1/1\n",
            "111/111 [==============================] - 5s 46ms/step - loss: 0.0154\n"
          ],
          "name": "stdout"
        },
        {
          "output_type": "execute_result",
          "data": {
            "text/plain": [
              "<keras.callbacks.callbacks.History at 0x7f907e1df1d0>"
            ]
          },
          "metadata": {
            "tags": []
          },
          "execution_count": 49
        }
      ]
    },
    {
      "cell_type": "code",
      "metadata": {
        "id": "79luBUIK7RId",
        "colab_type": "code",
        "colab": {}
      },
      "source": [
        "#Create the testing data set\n",
        "#Create a new array containing scaled values from index 1543 to 2002 \n",
        "test_data = scaled_data[training_data_len - 60: , :]\n",
        "#Create the data sets x_test and y_test\n",
        "x_test = []\n",
        "y_test = dataset[training_data_len:, :]\n",
        "for i in range(60, len(test_data)):\n",
        "  x_test.append(test_data[i-60:i, 0])"
      ],
      "execution_count": 0,
      "outputs": []
    },
    {
      "cell_type": "code",
      "metadata": {
        "id": "xpbhYp3q7coO",
        "colab_type": "code",
        "colab": {}
      },
      "source": [
        "x_test = np.array(x_test)"
      ],
      "execution_count": 0,
      "outputs": []
    },
    {
      "cell_type": "code",
      "metadata": {
        "id": "Z_GtN-_h7hee",
        "colab_type": "code",
        "colab": {}
      },
      "source": [
        "x_test = np.reshape(x_test, (x_test.shape[0], x_test.shape[1], 1 ))"
      ],
      "execution_count": 0,
      "outputs": []
    },
    {
      "cell_type": "code",
      "metadata": {
        "id": "MTG78F-C7sZf",
        "colab_type": "code",
        "colab": {}
      },
      "source": [
        "predictions = model.predict(x_test)\n",
        "predictions = scaler.inverse_transform(predictions)"
      ],
      "execution_count": 0,
      "outputs": []
    },
    {
      "cell_type": "code",
      "metadata": {
        "id": "ht2evmmD7wsI",
        "colab_type": "code",
        "colab": {
          "base_uri": "https://localhost:8080/",
          "height": 34
        },
        "outputId": "a1ae52c1-7f02-48af-c005-78fcc0640ff2"
      },
      "source": [
        "rmse=np.sqrt(np.mean(((predictions- y_test)**2)))\n",
        "rmse"
      ],
      "execution_count": 55,
      "outputs": [
        {
          "output_type": "execute_result",
          "data": {
            "text/plain": [
              "5.110201833018764"
            ]
          },
          "metadata": {
            "tags": []
          },
          "execution_count": 55
        }
      ]
    },
    {
      "cell_type": "code",
      "metadata": {
        "id": "pA-mnV0Q72i3",
        "colab_type": "code",
        "colab": {
          "base_uri": "https://localhost:8080/",
          "height": 620
        },
        "outputId": "f13fd4a4-74a7-4dba-f203-e2fd15bbf53e"
      },
      "source": [
        "train = data[:training_data_len]\n",
        "valid = data[training_data_len:]\n",
        "valid['Predictions'] = predictions\n",
        "#Visualize the data\n",
        "plt.figure(figsize=(16,8))\n",
        "plt.title('Model')\n",
        "plt.xlabel('Date', fontsize=18)\n",
        "plt.ylabel('Close Price USD ($)', fontsize=18)\n",
        "plt.plot(train['Close'])\n",
        "plt.plot(valid[['Close', 'Predictions']])\n",
        "plt.legend(['Train', 'Val', 'Predictions'], loc='lower right')\n",
        "plt.show()"
      ],
      "execution_count": 56,
      "outputs": [
        {
          "output_type": "stream",
          "text": [
            "/usr/local/lib/python3.6/dist-packages/ipykernel_launcher.py:3: SettingWithCopyWarning: \n",
            "A value is trying to be set on a copy of a slice from a DataFrame.\n",
            "Try using .loc[row_indexer,col_indexer] = value instead\n",
            "\n",
            "See the caveats in the documentation: https://pandas.pydata.org/pandas-docs/stable/user_guide/indexing.html#returning-a-view-versus-a-copy\n",
            "  This is separate from the ipykernel package so we can avoid doing imports until\n"
          ],
          "name": "stderr"
        },
        {
          "output_type": "display_data",
          "data": {
            "image/png": "[encoded data removed]",
            "text/plain": [
              "<Figure size 1152x576 with 1 Axes>"
            ]
          },
          "metadata": {
            "tags": [],
            "needs_background": "light"
          }
        }
      ]
    }
  ]
}